{
 "cells": [
  {
   "cell_type": "code",
   "execution_count": 1,
   "id": "162542c9",
   "metadata": {},
   "outputs": [
    {
     "name": "stdout",
     "output_type": "stream",
     "text": [
      "your fuel consumption in 3 months is 1200 litres\n",
      "covering a total of 1440 kilometers\n"
     ]
    }
   ],
   "source": [
    "x = 50 + 50\n",
    "y = 4\n",
    "z = 3\n",
    "total = x * y * 3\n",
    "print(\"your fuel consumption in 3 months is\", total, \"litres\")\n",
    "a = 60 + 60\n",
    "b = 4\n",
    "c = a * b\n",
    "d = 3\n",
    "kilometer = c * d\n",
    "print(\"covering a total of\", kilometer, \"kilometers\")\n",
    "\n"
   ]
  },
  {
   "cell_type": "code",
   "execution_count": null,
   "id": "bb6d94a7",
   "metadata": {},
   "outputs": [],
   "source": []
  }
 ],
 "metadata": {
  "kernelspec": {
   "display_name": "Python 3 (ipykernel)",
   "language": "python",
   "name": "python3"
  },
  "language_info": {
   "codemirror_mode": {
    "name": "ipython",
    "version": 3
   },
   "file_extension": ".py",
   "mimetype": "text/x-python",
   "name": "python",
   "nbconvert_exporter": "python",
   "pygments_lexer": "ipython3",
   "version": "3.11.1"
  }
 },
 "nbformat": 4,
 "nbformat_minor": 5
}
